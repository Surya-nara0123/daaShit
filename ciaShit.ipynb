{
 "cells": [
  {
   "cell_type": "markdown",
   "id": "e1a5fcb4",
   "metadata": {},
   "source": [
    "# CIA 2 Code in python\n",
    "\n",
    "1. Longest common subsequence using dynamic programming (tabular method) \n",
    "2. Matrix chain multiplication problem using dynamic programming (tabular method)\n",
    "3. Huffman coding (Greedy technique)\n",
    "4. Strassen's Method (Divide and Conquer) - Self-study\n",
    "5. Karatsuba Integer multiplication (Divide and conquer): the integers will have at least 256 digits and be stored as strings.\n",
    "6. List all the possible solutions to the N-Queens problem using Backtracking\n",
    "7. List all the possible solutions to the SUDOKU using Backtracking\n",
    "8. Simplex Method for Solving Linear Programming Problem\n",
    "9. Bellman-Ford Method (dynamic programming) - Graph Algorithm (Graphs will be given in the form of Adjacency Matrices)\n",
    "10. Ford Fulkerson Method (Maximum Flow) - Graph Algorithm (Graphs will be given in the form of Adjacency Matrices)"
   ]
  },
  {
   "cell_type": "markdown",
   "id": "0280550d",
   "metadata": {},
   "source": [
    "## 1. Longest common subsequence using dynamic programming (tabular method)"
   ]
  },
  {
   "cell_type": "code",
   "execution_count": null,
   "id": "7cbcbd62",
   "metadata": {},
   "outputs": [
    {
     "name": "stdout",
     "output_type": "stream",
     "text": [
      "[0, 0, 0, 0, 0]\n",
      "[[0, -1, -1, -1, -1]]\n",
      "[[0, -1, -1, -1, -1]]\n",
      "[[0, -1, -1, -1, -1]]\n",
      "[[0, -1, -1, -1, -1]]\n",
      "[[0, -1, -1, -1, -1]]\n",
      "1 1\n"
     ]
    },
    {
     "ename": "IndexError",
     "evalue": "list assignment index out of range",
     "output_type": "error",
     "traceback": [
      "\u001b[31m---------------------------------------------------------------------------\u001b[39m",
      "\u001b[31mIndexError\u001b[39m                                Traceback (most recent call last)",
      "\u001b[36mCell\u001b[39m\u001b[36m \u001b[39m\u001b[32mIn[8]\u001b[39m\u001b[32m, line 12\u001b[39m\n\u001b[32m     10\u001b[39m \u001b[38;5;28;01mif\u001b[39;00m s1[i] == s2[j]:\n\u001b[32m     11\u001b[39m     \u001b[38;5;28mprint\u001b[39m(i , j)\n\u001b[32m---> \u001b[39m\u001b[32m12\u001b[39m     \u001b[43mmemoTable\u001b[49m\u001b[43m[\u001b[49m\u001b[43mi\u001b[49m\u001b[43m]\u001b[49m\u001b[43m[\u001b[49m\u001b[43mj\u001b[49m\u001b[43m]\u001b[49m = memoTable[i - \u001b[32m1\u001b[39m][j - \u001b[32m1\u001b[39m] + \u001b[32m1\u001b[39m\n\u001b[32m     13\u001b[39m \u001b[38;5;28;01melse\u001b[39;00m:\n\u001b[32m     14\u001b[39m     memoTable[i][j] = \u001b[38;5;28mmax\u001b[39m(memoTable[i - \u001b[32m1\u001b[39m][j], memoTable[i][j - \u001b[32m1\u001b[39m])\n",
      "\u001b[31mIndexError\u001b[39m: list assignment index out of range"
     ]
    }
   ],
   "source": [
    "s1 = \"meow1\"\n",
    "s2 = \"meow\"\n",
    "\n",
    "memoTable = [[0 for _ in s2] + [0]] + [[[0] + [-1 for _ in s2]] for _ in s1]\n",
    "\n",
    "print(*memoTable, sep=\"\\n\")\n",
    "\n",
    "for i in range(1, len(s1)):\n",
    "    for j in range(1, len(s2)):\n",
    "        if s1[i] == s2[j]:\n",
    "            print(i , j, memoTable[i - 1][j - 1])\n",
    "            memoTable[i][j] = memoTable[i - 1][j - 1] + 1\n",
    "        else:\n",
    "            memoTable[i][j] = max(memoTable[i - 1][j], memoTable[i][j - 1])\n",
    "\n",
    "print(*memoTable, sep=\"\\n\")\n"
   ]
  },
  {
   "cell_type": "code",
   "execution_count": null,
   "id": "c78b8cc2",
   "metadata": {},
   "outputs": [],
   "source": []
  }
 ],
 "metadata": {
  "kernelspec": {
   "display_name": "Python 3",
   "language": "python",
   "name": "python3"
  },
  "language_info": {
   "codemirror_mode": {
    "name": "ipython",
    "version": 3
   },
   "file_extension": ".py",
   "mimetype": "text/x-python",
   "name": "python",
   "nbconvert_exporter": "python",
   "pygments_lexer": "ipython3",
   "version": "3.13.1"
  }
 },
 "nbformat": 4,
 "nbformat_minor": 5
}
