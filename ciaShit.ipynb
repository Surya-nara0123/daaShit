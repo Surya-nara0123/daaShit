{
 "cells": [
  {
   "cell_type": "markdown",
   "id": "e1a5fcb4",
   "metadata": {},
   "source": [
    "# CIA 2 Code in python\n",
    "\n",
    "1. Longest common subsequence using dynamic programming (tabular method) \n",
    "2. Matrix chain multiplication problem using dynamic programming (tabular method)\n",
    "3. Huffman coding (Greedy technique)\n",
    "4. Strassen's Method (Divide and Conquer) - Self-study\n",
    "5. Karatsuba Integer multiplication (Divide and conquer): the integers will have at least 256 digits and be stored as strings.\n",
    "6. List all the possible solutions to the N-Queens problem using Backtracking\n",
    "7. List all the possible solutions to the SUDOKU using Backtracking\n",
    "8. Simplex Method for Solving Linear Programming Problem\n",
    "9. Bellman-Ford Method (dynamic programming) - Graph Algorithm (Graphs will be given in the form of Adjacency Matrices)\n",
    "10. Ford Fulkerson Method (Maximum Flow) - Graph Algorithm (Graphs will be given in the form of Adjacency Matrices)"
   ]
  },
  {
   "cell_type": "markdown",
   "id": "0280550d",
   "metadata": {},
   "source": [
    "## 1. Longest common subsequence using dynamic programming (tabular method)"
   ]
  },
  {
   "cell_type": "code",
   "execution_count": 30,
   "id": "7cbcbd62",
   "metadata": {},
   "outputs": [
    {
     "name": "stdout",
     "output_type": "stream",
     "text": [
      "[0, 0, 0, 0, 0, 0, 0, 0, 0, 0, 0, 0, 0, 0, 0, 0, 0, 0, 0, 0, 0, 0, 0, 0, 0]\n",
      "[0, 0, 0, 0, 1, 1, 1, 1, 1, 1, 1, 1, 1, 1, 1, 1, 1, 1, 1, 1, 1, 1, 1, 1, 1]\n",
      "[0, 1, 1, 1, 1, 1, 1, 1, 1, 1, 1, 2, 2, 2, 2, 2, 2, 2, 2, 2, 2, 2, 2, 2, 2]\n",
      "[0, 1, 1, 1, 2, 2, 2, 2, 2, 2, 2, 2, 2, 2, 2, 2, 2, 2, 3, 3, 3, 3, 3, 3, 3]\n",
      "[0, 1, 1, 2, 2, 2, 2, 2, 2, 2, 2, 2, 2, 2, 2, 2, 2, 2, 3, 3, 4, 4, 4, 4, 4]\n",
      "[0, 1, 2, 2, 2, 2, 2, 2, 2, 2, 2, 2, 2, 2, 2, 2, 2, 2, 3, 3, 4, 4, 4, 4, 5]\n",
      "longest common subsequence: ACADB\n"
     ]
    }
   ],
   "source": [
    "s1 = \"ACADB\"\n",
    "s2 = \"CBDAKJHJHGCKJHKJHASDWERB\"\n",
    "\n",
    "memoTable = [[0 for _ in s2] + [0]] + [[0] + [-1 for _ in s2] for _ in s1]\n",
    "\n",
    "# print(*memoTable, sep=\"\\n\")\n",
    "\n",
    "for i in range(len(s1)):\n",
    "    for j in range(len(s2)):\n",
    "        if s1[i] == s2[j]:\n",
    "            # print(i , j, memoTable[i - 1][j - 1], memoTable[i])\n",
    "            memoTable[i + 1][j + 1] = memoTable[i][j] + 1\n",
    "        else:\n",
    "            memoTable[i + 1][j + 1] = max(memoTable[i][j + 1], memoTable[i + 1][j])\n",
    "\n",
    "print(*memoTable, sep=\"\\n\")\n",
    "\n",
    "lcs = \"\"\n",
    "i = len(s1)\n",
    "j = len(s2)\n",
    "while i and j:\n",
    "    if s1[i-1] == s2[j-1]:\n",
    "        lcs = s1[i-1] + lcs\n",
    "        i -= 1\n",
    "        j -= 1\n",
    "    else:\n",
    "        if memoTable[i - 1][j] == memoTable[i][j]:\n",
    "            i -= 1\n",
    "        else:\n",
    "            j -=1\n",
    "\n",
    "print(\"longest common subsequence:\", lcs)\n"
   ]
  },
  {
   "cell_type": "markdown",
   "id": "92418dd2",
   "metadata": {},
   "source": [
    "## 2. Matrix chain multiplication problem using dynamic programming (tabular method)"
   ]
  },
  {
   "cell_type": "code",
   "execution_count": null,
   "id": "c78b8cc2",
   "metadata": {},
   "outputs": [
    {
     "name": "stdout",
     "output_type": "stream",
     "text": [
      "Optimal Parenthesization: (((A1 × A2) × A3) × A4)\n",
      "Minimum number of multiplications needed: 4750\n"
     ]
    },
    {
     "data": {
      "text/plain": [
       "[[-1, 0, 1, 2], [-1, -1, 1, 2], [-1, -1, -1, 2], [-1, -1, -1, -1]]"
      ]
     },
     "execution_count": 5,
     "metadata": {},
     "output_type": "execute_result"
    }
   ],
   "source": [
    "# for simplicity sake...not gonna actually calculate the multiplication just holding the dimensions\n",
    "import math\n",
    "\n",
    "a = [5, 10]\n",
    "b = [10, 15]\n",
    "c = [15, 20]\n",
    "d = [20, 25]\n",
    "\n",
    "p = list(set(a + b + c + d))\n",
    "p.sort()  # Ensure dimensions are in order\n",
    "\n",
    "n = len(p) - 1\n",
    "mulTable = [[0 if i == j else math.inf for j in range(n)] for i in range(n)]\n",
    "# Table to store optimal split positions\n",
    "s = [[-1 for _ in range(n)] for _ in range(n)]\n",
    "\n",
    "for L in range(2, n + 1):\n",
    "    for i in range(n - L + 1):\n",
    "        j = i + L - 1\n",
    "        for k in range(i, j):\n",
    "            q = mulTable[i][k] + mulTable[k + 1][j] + p[i] * p[k + 1] * p[j + 1]\n",
    "            if q < mulTable[i][j]:\n",
    "                mulTable[i][j] = q\n",
    "                s[i][j] = k  # Store the position of optimal split\n",
    "\n",
    "# Function to print optimal parenthesization\n",
    "def print_optimal_parens(s, i, j):\n",
    "    if i == j:\n",
    "        return f\"A{i+1}\"\n",
    "    else:\n",
    "        return f\"({print_optimal_parens(s, i, s[i][j])} × {print_optimal_parens(s, s[i][j]+1, j)})\"\n",
    "\n",
    "# Print the optimal parenthesization\n",
    "print(\"Optimal Parenthesization:\", print_optimal_parens(s, 0, n-1))\n",
    "print(\"Minimum number of multiplications needed:\", mulTable[0][n-1])\n"
   ]
  },
  {
   "cell_type": "markdown",
   "id": "88034df3",
   "metadata": {},
   "source": [
    "## 3 Huffman coding (Greedy technique)"
   ]
  },
  {
   "cell_type": "code",
   "execution_count": 32,
   "id": "17e1e8cd",
   "metadata": {},
   "outputs": [
    {
     "name": "stdout",
     "output_type": "stream",
     "text": [
      "Final Hoffman Code is 10110001011100\n",
      "14\n",
      "0.3888888888888889\n"
     ]
    }
   ],
   "source": [
    "import heapq\n",
    "\n",
    "class Node:\n",
    "    def __init__(self, char, freq):\n",
    "        self.char = char\n",
    "        self.freq = freq\n",
    "        self.left = None\n",
    "        self.right = None\n",
    "\n",
    "    # Define comparison for priority queue\n",
    "    def __lt__(self, other):\n",
    "        return self.freq < other.freq\n",
    "\n",
    "s = \"lossless\"\n",
    "\n",
    "def build_frequency_dict(data):\n",
    "    freq = {}\n",
    "    for char in data:\n",
    "        freq[char] = freq.get(char, 0) + 1\n",
    "    return freq\n",
    "\n",
    "\n",
    "def build_min_heap(freq_dict):\n",
    "    heap = []\n",
    "    for char, freq in freq_dict.items():\n",
    "        heapq.heappush(heap, Node(char, freq))\n",
    "    return heap\n",
    "\n",
    "\n",
    "def build_huffman_tree(heap):\n",
    "    while len(heap) > 1:\n",
    "        left = heapq.heappop(heap)\n",
    "        right = heapq.heappop(heap)\n",
    "\n",
    "        merged = Node(None, left.freq + right.freq)\n",
    "        merged.left = left\n",
    "        merged.right = right\n",
    "\n",
    "        heapq.heappush(heap, merged)\n",
    "    return heap[0]  # Root node\n",
    "\n",
    "def generate_codes(root, current_code=\"\", codes={}):\n",
    "    if root is None:\n",
    "        return\n",
    "\n",
    "    if root.char is not None:\n",
    "        codes[root.char] = current_code\n",
    "\n",
    "    generate_codes(root.left, current_code + \"0\", codes)\n",
    "    generate_codes(root.right, current_code + \"1\", codes)\n",
    "    return codes\n",
    "\n",
    "\n",
    "freq_dict = build_frequency_dict(s)\n",
    "heap = build_min_heap(freq_dict)\n",
    "root = build_huffman_tree(heap)\n",
    "codes = generate_codes(root)\n",
    "\n",
    "count = len(freq_dict)\n",
    "orginalCodeSize = len(s) * math.log2(count)\n",
    "\n",
    "print(\"Final Hoffman Code is \", end=\"\")\n",
    "finalCodeSize = 0\n",
    "for c in s:\n",
    "    print(codes[c], end=\"\")\n",
    "    finalCodeSize += len(codes[c])\n",
    "print()\n",
    "print(finalCodeSize)\n",
    "print(14/36)"
   ]
  },
  {
   "cell_type": "markdown",
   "id": "14df0d7e",
   "metadata": {},
   "source": [
    "## 4. Strassen's Method (Divide and Conquer) - Self-study"
   ]
  },
  {
   "cell_type": "code",
   "execution_count": 33,
   "id": "03ddbf13",
   "metadata": {},
   "outputs": [
    {
     "name": "stdout",
     "output_type": "stream",
     "text": [
      "[4, 14, 13, 9]\n",
      "[12, 30, 33, 25]\n",
      "[16, 26, 37, 31]\n",
      "[8, 10, 17, 15]\n"
     ]
    }
   ],
   "source": [
    "def add(m1, m2):\n",
    "    result = []\n",
    "    for i in range(len(m1)):\n",
    "        row = []\n",
    "        for j in range(len(m1[0])):\n",
    "            row.append(m1[i][j] + m2[i][j])\n",
    "        result.append(row)\n",
    "    return result\n",
    "\n",
    "\n",
    "def sub(m1, m2):\n",
    "    result = []\n",
    "    for i in range(len(m1)):\n",
    "        row = []\n",
    "        for j in range(len(m1[0])):\n",
    "            row.append(m1[i][j] - m2[i][j])\n",
    "        result.append(row)\n",
    "    return result\n",
    "\n",
    "\n",
    "def split(m):\n",
    "    mid = len(m) // 2\n",
    "    A11 = [row[:mid] for row in m[:mid]]\n",
    "    A12 = [row[mid:] for row in m[:mid]]\n",
    "    A21 = [row[:mid] for row in m[mid:]]\n",
    "    A22 = [row[mid:] for row in m[mid:]]\n",
    "    return A11, A12, A21, A22\n",
    "\n",
    "def combine_m(C11, C12, C21, C22):\n",
    "    top = [a + b for a, b in zip(C11, C12)]\n",
    "    bottom = [a + b for a, b in zip(C21, C22)]\n",
    "    return top + bottom\n",
    "\n",
    "def strassen(m1, m2):\n",
    "    n = len(m1)\n",
    "    if n == 1:\n",
    "        return [[m1[0][0] * m2[0][0]]]\n",
    "    \n",
    "    A11, A12, A21, A22 = split(m1)\n",
    "    B11, B12, B21, B22 = split(m2)\n",
    "\n",
    "    #these 7 wil be given in question paper\n",
    "    # Strassen's 7 product\n",
    "    M1 = strassen(add(A11, A22), add(B11, B22))\n",
    "    M2 = strassen(add(A21, A22), B11)\n",
    "    M3 = strassen(A11, sub(B12, B22))\n",
    "    M4 = strassen(A22, sub(B21, B11))\n",
    "    M5 = strassen(add(A11, A12), B22)\n",
    "    M6 = strassen(sub(A21, A11), add(B11, B12))\n",
    "    M7 = strassen(sub(A12, A22), add(B21, B22))\n",
    "\n",
    "    # Construct resulting submatrices\n",
    "    C11 = add(sub(add(M1, M4), M5), M7)\n",
    "    C12 = add(M3, M5)\n",
    "    C21 = add(M2, M4)\n",
    "    C22 = add(sub(add(M1, M3), M2), M6)\n",
    "\n",
    "    return combine_m(C11, C12, C21, C22)\n",
    "\n",
    "# # Test\n",
    "# m1 = [[1, 2], [3, 4]]\n",
    "# m2 = [[5, 6], [7, 8]]\n",
    "\n",
    "# for row in strassen(m1, m2):\n",
    "#     print(row)\n",
    "# Test with the provided matrices\n",
    "a1 = [\n",
    "    [1, 2, 3, 4],\n",
    "    [5, 6, 7, 8],\n",
    "    [9, 8, 7, 6],\n",
    "    [5, 4, 3, 2]\n",
    "]\n",
    "\n",
    "b1 = [\n",
    "    [1, 0, 2, 1],\n",
    "    [0, 1, 0, 2],\n",
    "    [1, 0, 1, 0],\n",
    "    [0, 3, 2, 1]\n",
    "]\n",
    "\n",
    "result = strassen(a1, b1)\n",
    "for row in result:\n",
    "    print(row)"
   ]
  },
  {
   "cell_type": "markdown",
   "id": "fdca23b5",
   "metadata": {},
   "source": [
    "## 5. Karatsuba Integer multiplication (Divide and conquer): the integers will have at least 256 digits and be stored as strings."
   ]
  },
  {
   "cell_type": "code",
   "execution_count": 34,
   "id": "16a306be",
   "metadata": {},
   "outputs": [
    {
     "name": "stdout",
     "output_type": "stream",
     "text": [
      "Karatsuba Algorithm with String Input\n",
      "Answer is 151782\n"
     ]
    }
   ],
   "source": [
    "def make_equal_length(x, y):\n",
    "    max_len = max(len(x), len(y))\n",
    "    x = x.zfill(max_len)\n",
    "    y = y.zfill(max_len)\n",
    "    return x, y\n",
    "\n",
    "def add_strings(x, y):\n",
    "    return str(int(x) + int(y))\n",
    "\n",
    "def subtract_strings(x, y):\n",
    "    return str(int(x) - int(y))\n",
    "\n",
    "def karatsuba(x, y):\n",
    "    x, y = make_equal_length(x, y)\n",
    "    n = len(x)\n",
    "\n",
    "    if n == 1:\n",
    "        return str(int(x) * int(y))\n",
    "\n",
    "    half = n // 2\n",
    "\n",
    "    a, b = x[:n - half], x[n - half:]\n",
    "    c, d = y[:n - half], y[n - half:]\n",
    "\n",
    "    ac = karatsuba(a, c)\n",
    "    bd = karatsuba(b, d)\n",
    "    ad_plus_bc = subtract_strings(\n",
    "        subtract_strings(karatsuba(add_strings(a, b), add_strings(c, d)), ac),\n",
    "        bd\n",
    "    )\n",
    "\n",
    "    ac_shifted = ac + '0' * (2 * half)\n",
    "    ad_plus_bc_shifted = ad_plus_bc + '0' * half\n",
    "\n",
    "    result = int(ac_shifted) + int(ad_plus_bc_shifted) + int(bd)\n",
    "    return str(result)\n",
    "\n",
    "if __name__ == \"__main__\":\n",
    "    print(\"Karatsuba Algorithm with String Input\")\n",
    "    x = input(\"Enter number 1: \").lstrip('0') or '0'\n",
    "    y = input(\"Enter number 2: \").lstrip('0') or '0'\n",
    "\n",
    "    print(\"Answer is\", karatsuba(x, y))\n"
   ]
  },
  {
   "cell_type": "markdown",
   "id": "33be15cd",
   "metadata": {},
   "source": [
    "## 6. List all the possible solutions to the N-Queens problem using Backtracking"
   ]
  },
  {
   "cell_type": "code",
   "execution_count": 37,
   "id": "6464978a",
   "metadata": {},
   "outputs": [
    {
     "name": "stdout",
     "output_type": "stream",
     "text": [
      "0 1 0 0 \n",
      "0 0 0 1 \n",
      "1 0 0 0 \n",
      "0 0 1 0 \n",
      "\n",
      "0 0 1 0 \n",
      "1 0 0 0 \n",
      "0 0 0 1 \n",
      "0 1 0 0 \n",
      "\n"
     ]
    }
   ],
   "source": [
    "def isSafe(matrix,row,col,n): #helper function to check if queen placement is allowed\n",
    "    for i in range(row):\n",
    "        if matrix[i][col] == 1: #there is a queen already placed in the column\n",
    "            return False\n",
    "    i, j = row, col\n",
    "    while i >= 0 and j >= 0: #check the diagonal\n",
    "        if matrix[i][j] == 1:\n",
    "            return False\n",
    "        i -= 1\n",
    "        j -= 1\n",
    "    i, j = row, col\n",
    "    while i >= 0 and j < n: #check the other diagonal\n",
    "        if matrix[i][j] == 1:\n",
    "            return False\n",
    "        i -= 1\n",
    "        j += 1\n",
    "    return True\n",
    "\n",
    "def printboard(matrix,n):\n",
    "    for i in range(n):\n",
    "        for j in range(n):\n",
    "            print(matrix[i][j], end=' ')\n",
    "        print()\n",
    "    print()\n",
    "\n",
    "def nqueen(matrix,n,row):#solving function\n",
    "    if row==n: #base case\n",
    "        printboard(matrix,n)\n",
    "        return\n",
    "    for col in range(n):\n",
    "        if(isSafe(matrix,row,col,n)):\n",
    "            matrix[row][col] = 1#place queen\n",
    "            nqueen(matrix,n,row+1)#recursive call\n",
    "            matrix[row][col] = 0#backtrack\n",
    "\n",
    "n = 4\n",
    "matrix = [[0] * n for _ in range(n)]  \n",
    "\n",
    "nqueen(matrix, n, 0)"
   ]
  },
  {
   "cell_type": "markdown",
   "id": "e522c0a8",
   "metadata": {},
   "source": [
    "## 7. List all the possible solutions to the SUDOKU using Backtracking"
   ]
  },
  {
   "cell_type": "code",
   "execution_count": null,
   "id": "5d8136e9",
   "metadata": {},
   "outputs": [
    {
     "name": "stdout",
     "output_type": "stream",
     "text": [
      "Found 3 solution(s):\n",
      "\n",
      "\n",
      "[1, 2, 3, 4]\n",
      "[4, 3, 1, 2]\n",
      "[3, 4, 2, 1]\n",
      "[2, 1, 4, 3]\n",
      "\n",
      "\n",
      "[1, 2, 4, 3]\n",
      "[4, 3, 1, 2]\n",
      "[3, 1, 2, 4]\n",
      "[2, 4, 3, 1]\n",
      "\n",
      "\n",
      "[1, 2, 4, 3]\n",
      "[4, 3, 1, 2]\n",
      "[3, 4, 2, 1]\n",
      "[2, 1, 3, 4]\n"
     ]
    }
   ],
   "source": [
    "from copy import deepcopy\n",
    "\n",
    "sudoku_board = [\n",
    "    [1, 0, 0, 0],\n",
    "    [0, 3, 0, 0],\n",
    "    [0, 0, 2, 0],\n",
    "    [2, 0, 0, 0]\n",
    "]\n",
    "\n",
    "N = 4\n",
    "BOX_SIZE = 2\n",
    "\n",
    "def is_valid(board, row, col, num):\n",
    "    for i in range(N):\n",
    "        if board[row][i] == num or board[i][col] == num:\n",
    "            return False\n",
    "\n",
    "    start_row, start_col = row - row % BOX_SIZE, col - col % BOX_SIZE\n",
    "    for i in range(start_row, start_row + BOX_SIZE):\n",
    "        for j in range(start_col, start_col + BOX_SIZE):\n",
    "            if board[i][j] == num:\n",
    "                return False\n",
    "\n",
    "    return True\n",
    "\n",
    "def solve(board, row=0, col=0, solutions=[]):\n",
    "    if row == N:\n",
    "        solutions.append(deepcopy(board))\n",
    "        return\n",
    "\n",
    "    next_row, next_col = (row, col + 1) if col < N - 1 else (row + 1, 0)\n",
    "\n",
    "    if board[row][col] != 0:\n",
    "        solve(board, next_row, next_col, solutions)\n",
    "    else:\n",
    "        for num in range(1, N + 1):\n",
    "            if is_valid(board, row, col, num):\n",
    "                board[row][col] = num\n",
    "                solve(board, next_row, next_col, solutions)\n",
    "                board[row][col] = 0\n",
    "\n",
    "solutions = []\n",
    "solve(sudoku_board, solutions=solutions)\n",
    "\n",
    "print(f\"Found {len(solutions)} solution(s):\")\n",
    "for idx, solution in enumerate(solutions, 1):\n",
    "    print(\"\\n\")\n",
    "    for row in solution:\n",
    "        print(row)\n"
   ]
  },
  {
   "cell_type": "markdown",
   "id": "436a18ea",
   "metadata": {},
   "source": [
    "## 8. Simplex Method for Solving Linear Programming Problem"
   ]
  },
  {
   "cell_type": "code",
   "execution_count": null,
   "id": "43fa78b6",
   "metadata": {},
   "outputs": [],
   "source": [
    "nv = 3 # number of variables\n",
    "nc = 3 # number of constraints\n",
    "eq = []\n",
    "for i in range(nc + 1):\n",
    "    if i == 0:\n",
    "        for j in range(nv):\n",
    "            eq.append(int(input()))\n",
    "    else:\n",
    "        for j in range(nv + 1):\n",
    "            eq.append(int(input()))\n",
    "        eq.append(int(input()))\n",
    "\n",
    "def create_matrix(eq):\n",
    "    matrix = []\n",
    "    for i in range(nv+1):\n",
    "        matrix.append([])\n",
    "        "
   ]
  },
  {
   "cell_type": "markdown",
   "id": "aee35fea",
   "metadata": {},
   "source": [
    "## 9. Bellman-Ford Method (dynamic programming) - Graph Algorithm (Graphs will be given in the form of Adjacency Matrices)"
   ]
  },
  {
   "cell_type": "code",
   "execution_count": null,
   "id": "196f15e2",
   "metadata": {},
   "outputs": [],
   "source": [
    "INF = float('inf')\n",
    "adj_matrix = [\n",
    "    [ 0, 6, 5, 5, INF, INF, INF],\n",
    "    [ INF, 0, INF, INF, -1, INF, INF ],\n",
    "    [ INF, -2, 0, INF, 1, INF, INF ],\n",
    "    [ INF, INF, -2, 0, INF, -1, INF ],\n",
    "    [ INF, INF, INF, INF, 0, INF, 3 ],\n",
    "    [ INF, INF, INF, INF, INF, 0, 3 ],\n",
    "    [ INF, INF, INF, INF, INF, INF, 0 ],\n",
    "]\n",
    "\n"
   ]
  }
 ],
 "metadata": {
  "kernelspec": {
   "display_name": "Python 3",
   "language": "python",
   "name": "python3"
  },
  "language_info": {
   "codemirror_mode": {
    "name": "ipython",
    "version": 3
   },
   "file_extension": ".py",
   "mimetype": "text/x-python",
   "name": "python",
   "nbconvert_exporter": "python",
   "pygments_lexer": "ipython3",
   "version": "3.13.1"
  }
 },
 "nbformat": 4,
 "nbformat_minor": 5
}
