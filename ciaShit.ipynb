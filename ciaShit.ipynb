{
 "cells": [
  {
   "cell_type": "markdown",
   "id": "e1a5fcb4",
   "metadata": {},
   "source": [
    "# CIA 2 Code in python\n",
    "\n",
    "1. Longest common subsequence using dynamic programming (tabular method) \n",
    "2. Matrix chain multiplication problem using dynamic programming (tabular method)\n",
    "3. Huffman coding (Greedy technique)\n",
    "4. Strassen's Method (Divide and Conquer) - Self-study\n",
    "5. Karatsuba Integer multiplication (Divide and conquer): the integers will have at least 256 digits and be stored as strings.\n",
    "6. List all the possible solutions to the N-Queens problem using Backtracking\n",
    "7. List all the possible solutions to the SUDOKU using Backtracking\n",
    "8. Simplex Method for Solving Linear Programming Problem\n",
    "9. Bellman-Ford Method (dynamic programming) - Graph Algorithm (Graphs will be given in the form of Adjacency Matrices)\n",
    "10. Ford Fulkerson Method (Maximum Flow) - Graph Algorithm (Graphs will be given in the form of Adjacency Matrices)"
   ]
  },
  {
   "cell_type": "markdown",
   "id": "0280550d",
   "metadata": {},
   "source": [
    "## 1. Longest common subsequence using dynamic programming (tabular method)"
   ]
  },
  {
   "cell_type": "code",
   "execution_count": 19,
   "id": "7cbcbd62",
   "metadata": {},
   "outputs": [
    {
     "name": "stdout",
     "output_type": "stream",
     "text": [
      "[0, 0, 0, 0, 0]\n",
      "[0, 0, 0, 0, 1]\n",
      "[0, 1, 1, 1, 1]\n",
      "[0, 1, 1, 1, 2]\n",
      "[0, 1, 1, 2, 2]\n",
      "[0, 1, 2, 2, 2]\n",
      "CA\n"
     ]
    }
   ],
   "source": [
    "s1 = \"ACADB\"\n",
    "s2 = \"CBDA\"\n",
    "\n",
    "memoTable = [[0 for _ in s2] + [0]] + [[0] + [-1 for _ in s2] for _ in s1]\n",
    "\n",
    "# print(*memoTable, sep=\"\\n\")\n",
    "\n",
    "for i in range(len(s1)):\n",
    "    for j in range(len(s2)):\n",
    "        if s1[i] == s2[j]:\n",
    "            # print(i , j, memoTable[i - 1][j - 1], memoTable[i])\n",
    "            memoTable[i + 1][j + 1] = memoTable[i][j] + 1\n",
    "        else:\n",
    "            memoTable[i + 1][j + 1] = max(memoTable[i][j + 1], memoTable[i + 1][j])\n",
    "\n",
    "print(*memoTable, sep=\"\\n\")\n",
    "\n",
    "lcs = \"\"\n",
    "i = len(s1)\n",
    "j = len(s2)\n",
    "while i and j:\n",
    "    if s1[i-1] == s2[j-1]:\n",
    "        lcs = s1[i-1] + lcs\n",
    "        i -= 1\n",
    "        j -= 1\n",
    "    else:\n",
    "        if memoTable[i - 1][j] == memoTable[i][j]:\n",
    "            i -= 1\n",
    "        else:\n",
    "            j -=1\n",
    "\n",
    "print(lcs)\n"
   ]
  },
  {
   "cell_type": "code",
   "execution_count": null,
   "id": "c78b8cc2",
   "metadata": {},
   "outputs": [],
   "source": []
  }
 ],
 "metadata": {
  "kernelspec": {
   "display_name": "Python 3",
   "language": "python",
   "name": "python3"
  },
  "language_info": {
   "codemirror_mode": {
    "name": "ipython",
    "version": 3
   },
   "file_extension": ".py",
   "mimetype": "text/x-python",
   "name": "python",
   "nbconvert_exporter": "python",
   "pygments_lexer": "ipython3",
   "version": "3.13.1"
  }
 },
 "nbformat": 4,
 "nbformat_minor": 5
}
